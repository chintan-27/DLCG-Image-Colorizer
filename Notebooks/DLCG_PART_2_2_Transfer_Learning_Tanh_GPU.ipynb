{
  "nbformat": 4,
  "nbformat_minor": 0,
  "metadata": {
    "colab": {
      "provenance": []
    },
    "kernelspec": {
      "name": "python3",
      "display_name": "Python 3"
    },
    "language_info": {
      "name": "python"
    },
    "accelerator": "GPU",
    "gpuClass": "standard"
  },
  "cells": [
    {
      "cell_type": "code",
      "source": [
        "!unzip \"/content/ColorfulOriginal.zip\" -d \"/content/data\""
      ],
      "metadata": {
        "id": "Jc8alEUNucZu"
      },
      "execution_count": null,
      "outputs": []
    },
    {
      "cell_type": "code",
      "source": [
        "!unzip \"/content/NCDataset.zip\" -d \"/content/data\""
      ],
      "metadata": {
        "id": "yTfLcrwB58T6"
      },
      "execution_count": null,
      "outputs": []
    },
    {
      "cell_type": "code",
      "source": [
        "import tensorflow as tf\n",
        "print(\"Num GPUs Available: \", len(tf.config.list_physical_devices('GPU')), \" \", tf.config.list_physical_devices('GPU'))"
      ],
      "metadata": {
        "colab": {
          "base_uri": "https://localhost:8080/"
        },
        "id": "qDY9_36bLPde",
        "outputId": "39dacb06-29a8-4973-8440-848f1b86421a"
      },
      "execution_count": 3,
      "outputs": [
        {
          "output_type": "stream",
          "name": "stdout",
          "text": [
            "Num GPUs Available:  1   [PhysicalDevice(name='/physical_device:GPU:0', device_type='GPU')]\n"
          ]
        }
      ]
    },
    {
      "cell_type": "code",
      "source": [
        "import os\n",
        "import cv2\n",
        "\n",
        "image_data = []\n",
        "\n",
        "for i in os.listdir(\"/content/data/ColorfulOriginal\"):\n",
        "  for j in os.listdir(\"/content/data/ColorfulOriginal/\" + i):\n",
        "    img = cv2.imread(\"/content/data/ColorfulOriginal/\" + i + \"/\" + j)\n",
        "    img = cv2.resize(img, (128, 128), interpolation = cv2.INTER_AREA)\n",
        "    image_data.append(img)"
      ],
      "metadata": {
        "id": "S3lmNI_c2zmf"
      },
      "execution_count": 4,
      "outputs": []
    },
    {
      "cell_type": "code",
      "source": [
        "import numpy as np\n",
        "\n",
        "image_data = np.array(image_data)\n",
        "image_data.shape"
      ],
      "metadata": {
        "colab": {
          "base_uri": "https://localhost:8080/"
        },
        "id": "BPSjsikNBLj8",
        "outputId": "72c02d48-eb6e-480e-eb4a-39b3dc5fb484"
      },
      "execution_count": 5,
      "outputs": [
        {
          "output_type": "execute_result",
          "data": {
            "text/plain": [
              "(721, 128, 128, 3)"
            ]
          },
          "metadata": {},
          "execution_count": 5
        }
      ]
    },
    {
      "cell_type": "code",
      "source": [
        "import random\n",
        "train_indices = []\n",
        "for i in range(648):\n",
        "  x = random.randint(0, 721)\n",
        "  while(x in train_indices):\n",
        "    x = random.randint(0, 721)\n",
        "  train_indices.append(x)\n",
        "print(len(train_indices))\n",
        "train_indices = list(set(train_indices))\n",
        "print(len(train_indices))"
      ],
      "metadata": {
        "colab": {
          "base_uri": "https://localhost:8080/"
        },
        "id": "JowNjFeWBeBF",
        "outputId": "b9ab04f8-7b70-4738-de80-68a15ec0ecdb"
      },
      "execution_count": 6,
      "outputs": [
        {
          "output_type": "stream",
          "name": "stdout",
          "text": [
            "648\n",
            "648\n"
          ]
        }
      ]
    },
    {
      "cell_type": "code",
      "source": [
        "train_data = []\n",
        "test_data = []\n",
        "\n",
        "for i in range(721):\n",
        "  if(i in train_indices):\n",
        "    train_data.append(image_data[i])\n",
        "  else:\n",
        "    test_data.append(image_data[i])\n",
        "\n",
        "train_data = np.array(train_data)\n",
        "test_data = np.array(test_data)\n",
        "\n",
        "train_data.shape, test_data.shape"
      ],
      "metadata": {
        "colab": {
          "base_uri": "https://localhost:8080/"
        },
        "id": "ORbz28wjB7OK",
        "outputId": "7fafbbcd-1be0-43b4-dd8b-00036a99e320"
      },
      "execution_count": 18,
      "outputs": [
        {
          "output_type": "execute_result",
          "data": {
            "text/plain": [
              "((647, 128, 128, 3), (74, 128, 128, 3))"
            ]
          },
          "metadata": {},
          "execution_count": 18
        }
      ]
    },
    {
      "cell_type": "code",
      "source": [
        "import random\n",
        "\n",
        "def fill(img, h, w):\n",
        "    img = cv2.resize(img, (h, w), cv2.INTER_CUBIC)\n",
        "    return img\n",
        "\n",
        "# HORIZONTAL SHIFT - RANDOM RATIO 0 - 1\n",
        "def horizontal_shift(img, ratio=0.0):\n",
        "    ratio = random.uniform(-ratio, ratio)\n",
        "    h, w = img.shape[:2]\n",
        "    to_shift = w*ratio\n",
        "    if ratio > 0:\n",
        "        img = img[:, :int(w-to_shift), :]\n",
        "    if ratio < 0:\n",
        "        img = img[:, int(-1*to_shift):, :]\n",
        "    img = fill(img, h, w)\n",
        "    return img\n",
        "\n",
        "# VERTICAL SHIFT - RANDOM RATIO 0 - 1\n",
        "def vertical_shift(img, ratio=0.0):\n",
        "    ratio = random.uniform(-ratio, ratio)\n",
        "    h, w = img.shape[:2]\n",
        "    to_shift = h*ratio\n",
        "    if ratio > 0:\n",
        "        img = img[:int(h-to_shift), :, :]\n",
        "    if ratio < 0:\n",
        "        img = img[int(-1*to_shift):, :, :]\n",
        "    img = fill(img, h, w)\n",
        "    return img\n",
        "\n",
        "# BRIGHTNESS - RANDOM LOW, HIGH \n",
        "def brightness(img, low, high):\n",
        "    value = random.uniform(low, high)\n",
        "    hsv = cv2.cvtColor(img, cv2.COLOR_BGR2HSV)\n",
        "    hsv = np.array(hsv, dtype = np.float64)\n",
        "    hsv[:,:,1] = hsv[:,:,1]*value\n",
        "    hsv[:,:,1][hsv[:,:,1]>255]  = 255\n",
        "    hsv[:,:,2] = hsv[:,:,2]*value \n",
        "    hsv[:,:,2][hsv[:,:,2]>255]  = 255\n",
        "    hsv = np.array(hsv, dtype = np.uint8)\n",
        "    img = cv2.cvtColor(hsv, cv2.COLOR_HSV2BGR)\n",
        "    return img\n",
        "\n",
        "# ZOOM - RANDOM VALUE 0 - 1\n",
        "def zoom(img, value):\n",
        "    value = random.uniform(value, 1)\n",
        "    h, w = img.shape[:2]\n",
        "    h_taken = int(value*h)\n",
        "    w_taken = int(value*w)\n",
        "    h_start = random.randint(0, h-h_taken)\n",
        "    w_start = random.randint(0, w-w_taken)\n",
        "    img = img[h_start:h_start+h_taken, w_start:w_start+w_taken, :]\n",
        "    img = fill(img, h, w)\n",
        "    return img\n",
        "\n",
        "# HORIZONTAL FLIP - RANDOM BOOLEAN\n",
        "def horizontal_flip(img, flag):\n",
        "    if flag:\n",
        "        return cv2.flip(img, 1)\n",
        "    else:\n",
        "        return img\n",
        "\n",
        "# VERTICAL FLIP - RANDOM BOOLEAN\n",
        "def vertical_flip(img, flag):\n",
        "    if flag:\n",
        "        return cv2.flip(img, 0)\n",
        "    else:\n",
        "        return img\n",
        "\n",
        "# ROTATION - RANDOM ANGLE\n",
        "def rotation(img, angle):\n",
        "    angle = int(random.uniform(-angle, angle))\n",
        "    h, w = img.shape[:2]\n",
        "    M = cv2.getRotationMatrix2D((int(w/2), int(h/2)), angle, 1)\n",
        "    img = cv2.warpAffine(img, M, (w, h))\n",
        "    return img\n",
        "  \n",
        "# SCALE - RANDOM VALUE 0.6 - 1\n",
        "def scale(img, value):\n",
        "  return np.array((value * img), dtype=np.uint8)"
      ],
      "metadata": {
        "id": "LWIjUnIjHWjy"
      },
      "execution_count": 19,
      "outputs": []
    },
    {
      "cell_type": "code",
      "source": [
        "augmented_train_data = []\n",
        "for i in train_data:\n",
        "  augmented_train_data.append(i)\n",
        "  for j in range(3):\n",
        "    augmented_train_data.append(horizontal_shift(i, random.uniform(0, 1)))\n",
        "    augmented_train_data.append(vertical_shift(i, random.uniform(0, 1)))\n",
        "    augmented_train_data.append(zoom(i, random.uniform(0, 1)))\n",
        "    augmented_train_data.append(scale(i, random.uniform(0.6, 1)))"
      ],
      "metadata": {
        "id": "_0X55vcrHOtw"
      },
      "execution_count": 20,
      "outputs": []
    },
    {
      "cell_type": "code",
      "source": [
        "X_train = []\n",
        "y_train = []\n",
        "for img in augmented_train_data:\n",
        "  imageLAB = cv2.cvtColor(img, cv2.COLOR_BGR2LAB)\n",
        "  L, a, b = cv2.split(imageLAB)\n",
        "  X_train.append([L])\n",
        "  y_train.append([a,b])"
      ],
      "metadata": {
        "id": "kCRxIfTBB9Qa"
      },
      "execution_count": 21,
      "outputs": []
    },
    {
      "cell_type": "code",
      "source": [
        "X_test = []\n",
        "y_test = []\n",
        "for img in test_data:\n",
        "  imageLAB = cv2.cvtColor(img, cv2.COLOR_BGR2LAB)\n",
        "  L, a, b = cv2.split(imageLAB)\n",
        "  X_test.append([L])\n",
        "  y_test.append([a,b])"
      ],
      "metadata": {
        "id": "r585VGLBCQpV"
      },
      "execution_count": 22,
      "outputs": []
    },
    {
      "cell_type": "code",
      "source": [
        "with tf.device('/GPU:0'):\n",
        "  X_train = tf.convert_to_tensor(X_train, dtype = np.float32)\n",
        "  X_test = tf.convert_to_tensor(X_test, dtype = np.float32)\n",
        "  y_train = tf.convert_to_tensor(y_train, dtype = np.float32)\n",
        "  y_test = tf.convert_to_tensor(y_test, dtype = np.float32)\n",
        "\n",
        "X_train.shape, X_test.shape, y_train.shape, y_test.shape"
      ],
      "metadata": {
        "colab": {
          "base_uri": "https://localhost:8080/"
        },
        "id": "Semsz3L2CRRJ",
        "outputId": "bf27db37-3137-488c-9737-ee63eed16e81"
      },
      "execution_count": 23,
      "outputs": [
        {
          "output_type": "execute_result",
          "data": {
            "text/plain": [
              "(TensorShape([8411, 1, 128, 128]),\n",
              " TensorShape([74, 1, 128, 128]),\n",
              " TensorShape([8411, 2, 128, 128]),\n",
              " TensorShape([74, 2, 128, 128]))"
            ]
          },
          "metadata": {},
          "execution_count": 23
        }
      ]
    },
    {
      "cell_type": "code",
      "source": [
        "with tf.device('/GPU:0'):\n",
        "  y_train = tf.math.subtract(y_train, 128)\n",
        "  y_test = tf.math.subtract(y_test, 128)"
      ],
      "metadata": {
        "id": "-I5Xbr5Zwm1F"
      },
      "execution_count": 24,
      "outputs": []
    },
    {
      "cell_type": "code",
      "source": [
        "tf.reduce_min(y_train), tf.reduce_max(y_train), tf.reduce_min(y_test), tf.reduce_max(y_test)"
      ],
      "metadata": {
        "colab": {
          "base_uri": "https://localhost:8080/"
        },
        "id": "UxiVBuIpwXTs",
        "outputId": "7796ee28-db06-4cc1-faf1-e7d226517423"
      },
      "execution_count": 25,
      "outputs": [
        {
          "output_type": "execute_result",
          "data": {
            "text/plain": [
              "(<tf.Tensor: shape=(), dtype=float32, numpy=-71.0>,\n",
              " <tf.Tensor: shape=(), dtype=float32, numpy=92.0>,\n",
              " <tf.Tensor: shape=(), dtype=float32, numpy=-61.0>,\n",
              " <tf.Tensor: shape=(), dtype=float32, numpy=91.0>)"
            ]
          },
          "metadata": {},
          "execution_count": 25
        }
      ]
    },
    {
      "cell_type": "code",
      "source": [
        "with tf.device('/GPU:0'):\n",
        "  X_train = tf.divide(X_train, 255)\n",
        "  X_test = tf.divide(X_test, 255)\n",
        "  y_train = tf.divide(y_train, 127)\n",
        "  y_test = tf.divide(y_test, 127)"
      ],
      "metadata": {
        "id": "_RUVzYAaCSr2"
      },
      "execution_count": 26,
      "outputs": []
    },
    {
      "cell_type": "code",
      "source": [
        "from tensorflow.keras.models import load_model\n",
        "\n",
        "with tf.device('/GPU:0'):\n",
        "  model = load_model(\"/content/ColorizerModelFinalTanh.h5\")\n",
        "model.summary()"
      ],
      "metadata": {
        "colab": {
          "base_uri": "https://localhost:8080/"
        },
        "id": "VArxJj0RCXdg",
        "outputId": "46229950-93e6-4f2f-e78b-77e3102b5cd5"
      },
      "execution_count": 27,
      "outputs": [
        {
          "output_type": "stream",
          "name": "stdout",
          "text": [
            "Model: \"sequential\"\n",
            "_________________________________________________________________\n",
            " Layer (type)                Output Shape              Param #   \n",
            "=================================================================\n",
            " conv2d (Conv2D)             (None, 1, 128, 128)       65664     \n",
            "                                                                 \n",
            " batch_normalization (BatchN  (None, 1, 128, 128)      512       \n",
            " ormalization)                                                   \n",
            "                                                                 \n",
            " conv2d_transpose (Conv2DTra  (None, 1, 256, 256)      33024     \n",
            " nspose)                                                         \n",
            "                                                                 \n",
            " batch_normalization_1 (Batc  (None, 1, 256, 256)      1024      \n",
            " hNormalization)                                                 \n",
            "                                                                 \n",
            " conv2d_1 (Conv2D)           (None, 1, 128, 128)       131200    \n",
            "                                                                 \n",
            " batch_normalization_2 (Batc  (None, 1, 128, 128)      512       \n",
            " hNormalization)                                                 \n",
            "                                                                 \n",
            " conv2d_2 (Conv2D)           (None, 1, 64, 64)         32832     \n",
            "                                                                 \n",
            " batch_normalization_3 (Batc  (None, 1, 64, 64)        256       \n",
            " hNormalization)                                                 \n",
            "                                                                 \n",
            " conv2d_3 (Conv2D)           (None, 1, 32, 32)         8224      \n",
            "                                                                 \n",
            " batch_normalization_4 (Batc  (None, 1, 32, 32)        128       \n",
            " hNormalization)                                                 \n",
            "                                                                 \n",
            " conv2d_4 (Conv2D)           (None, 1, 16, 16)         2064      \n",
            "                                                                 \n",
            " batch_normalization_5 (Batc  (None, 1, 16, 16)        64        \n",
            " hNormalization)                                                 \n",
            "                                                                 \n",
            " conv2d_5 (Conv2D)           (None, 1, 8, 8)           520       \n",
            "                                                                 \n",
            " batch_normalization_6 (Batc  (None, 1, 8, 8)          32        \n",
            " hNormalization)                                                 \n",
            "                                                                 \n",
            " conv2d_transpose_1 (Conv2DT  (None, 2, 8, 8)          264       \n",
            " ranspose)                                                       \n",
            "                                                                 \n",
            " batch_normalization_7 (Batc  (None, 2, 8, 8)          32        \n",
            " hNormalization)                                                 \n",
            "                                                                 \n",
            " conv2d_transpose_2 (Conv2DT  (None, 2, 16, 16)        528       \n",
            " ranspose)                                                       \n",
            "                                                                 \n",
            " batch_normalization_8 (Batc  (None, 2, 16, 16)        64        \n",
            " hNormalization)                                                 \n",
            "                                                                 \n",
            " conv2d_transpose_3 (Conv2DT  (None, 2, 32, 32)        2080      \n",
            " ranspose)                                                       \n",
            "                                                                 \n",
            " batch_normalization_9 (Batc  (None, 2, 32, 32)        128       \n",
            " hNormalization)                                                 \n",
            "                                                                 \n",
            " conv2d_transpose_4 (Conv2DT  (None, 2, 64, 64)        8256      \n",
            " ranspose)                                                       \n",
            "                                                                 \n",
            " batch_normalization_10 (Bat  (None, 2, 64, 64)        256       \n",
            " chNormalization)                                                \n",
            "                                                                 \n",
            " conv2d_transpose_5 (Conv2DT  (None, 2, 128, 128)      32896     \n",
            " ranspose)                                                       \n",
            "                                                                 \n",
            " batch_normalization_11 (Bat  (None, 2, 128, 128)      512       \n",
            " chNormalization)                                                \n",
            "                                                                 \n",
            " conv2d_transpose_6 (Conv2DT  (None, 2, 256, 256)      131328    \n",
            " ranspose)                                                       \n",
            "                                                                 \n",
            " batch_normalization_12 (Bat  (None, 2, 256, 256)      1024      \n",
            " chNormalization)                                                \n",
            "                                                                 \n",
            " conv2d_6 (Conv2D)           (None, 2, 128, 128)       131200    \n",
            "                                                                 \n",
            " batch_normalization_13 (Bat  (None, 2, 128, 128)      512       \n",
            " chNormalization)                                                \n",
            "                                                                 \n",
            "=================================================================\n",
            "Total params: 585,136\n",
            "Trainable params: 582,608\n",
            "Non-trainable params: 2,528\n",
            "_________________________________________________________________\n"
          ]
        }
      ]
    },
    {
      "cell_type": "code",
      "source": [
        "import tensorflow as tf\n",
        "\n",
        "loss = tf.keras.losses.MeanSquaredError(name='mean_squared_error')\n",
        "optimizer = tf.keras.optimizers.Adam(learning_rate=0.001)\n",
        "model.compile(optimizer=optimizer, loss=loss)"
      ],
      "metadata": {
        "id": "CA6gzCwUCxnR"
      },
      "execution_count": 28,
      "outputs": []
    },
    {
      "cell_type": "code",
      "source": [
        "with tf.device('/GPU:0'):\n",
        "  history = model.fit(X_train, y_train, \n",
        "                    validation_data=(X_test, y_test), \n",
        "                    epochs=25, \n",
        "                    batch_size=5,\n",
        "                    steps_per_epoch=X_train.shape[0]//5,\n",
        "                    validation_steps=X_test.shape[0]//5,\n",
        "                    shuffle=True)"
      ],
      "metadata": {
        "colab": {
          "base_uri": "https://localhost:8080/"
        },
        "id": "7dbeGeIcC1rb",
        "outputId": "0edea7b8-2d5a-4bd7-978c-6307056baf87"
      },
      "execution_count": 29,
      "outputs": [
        {
          "output_type": "stream",
          "name": "stdout",
          "text": [
            "Epoch 1/25\n",
            "1682/1682 [==============================] - 23s 8ms/step - loss: 0.0283 - val_loss: 0.5869\n",
            "Epoch 2/25\n",
            "1682/1682 [==============================] - 14s 8ms/step - loss: 0.0253 - val_loss: 0.0214\n",
            "Epoch 3/25\n",
            "1682/1682 [==============================] - 14s 8ms/step - loss: 0.0243 - val_loss: 0.0221\n",
            "Epoch 4/25\n",
            "1682/1682 [==============================] - 14s 8ms/step - loss: 0.0235 - val_loss: 0.0226\n",
            "Epoch 5/25\n",
            "1682/1682 [==============================] - 14s 8ms/step - loss: 0.0228 - val_loss: 0.0207\n",
            "Epoch 6/25\n",
            "1682/1682 [==============================] - 14s 9ms/step - loss: 0.0222 - val_loss: 0.0250\n",
            "Epoch 7/25\n",
            "1682/1682 [==============================] - 14s 8ms/step - loss: 0.0216 - val_loss: 0.0250\n",
            "Epoch 8/25\n",
            "1682/1682 [==============================] - 14s 8ms/step - loss: 0.0207 - val_loss: 0.0222\n",
            "Epoch 9/25\n",
            "1682/1682 [==============================] - 14s 8ms/step - loss: 0.0200 - val_loss: 0.0196\n",
            "Epoch 10/25\n",
            "1682/1682 [==============================] - 14s 8ms/step - loss: 0.0196 - val_loss: 0.0279\n",
            "Epoch 11/25\n",
            "1682/1682 [==============================] - 14s 8ms/step - loss: 0.0190 - val_loss: 0.0235\n",
            "Epoch 12/25\n",
            "1682/1682 [==============================] - 14s 8ms/step - loss: 0.0187 - val_loss: 0.0229\n",
            "Epoch 13/25\n",
            "1682/1682 [==============================] - 14s 8ms/step - loss: 0.0186 - val_loss: 0.0200\n",
            "Epoch 14/25\n",
            "1682/1682 [==============================] - 14s 8ms/step - loss: 0.0183 - val_loss: 0.0174\n",
            "Epoch 15/25\n",
            "1682/1682 [==============================] - 14s 8ms/step - loss: 0.0179 - val_loss: 0.0187\n",
            "Epoch 16/25\n",
            "1682/1682 [==============================] - 14s 8ms/step - loss: 0.0177 - val_loss: 0.0196\n",
            "Epoch 17/25\n",
            "1682/1682 [==============================] - 14s 8ms/step - loss: 0.0174 - val_loss: 0.0172\n",
            "Epoch 18/25\n",
            "1682/1682 [==============================] - 14s 8ms/step - loss: 0.0174 - val_loss: 0.0178\n",
            "Epoch 19/25\n",
            "1682/1682 [==============================] - 14s 8ms/step - loss: 0.0171 - val_loss: 0.0243\n",
            "Epoch 20/25\n",
            "1682/1682 [==============================] - 14s 8ms/step - loss: 0.0170 - val_loss: 0.0214\n",
            "Epoch 21/25\n",
            "1682/1682 [==============================] - 13s 8ms/step - loss: 0.0171 - val_loss: 0.0226\n",
            "Epoch 22/25\n",
            "1682/1682 [==============================] - 14s 8ms/step - loss: 0.0171 - val_loss: 0.0211\n",
            "Epoch 23/25\n",
            "1682/1682 [==============================] - 13s 8ms/step - loss: 0.0168 - val_loss: 0.0201\n",
            "Epoch 24/25\n",
            "1682/1682 [==============================] - 14s 8ms/step - loss: 0.0167 - val_loss: 0.0200\n",
            "Epoch 25/25\n",
            "1682/1682 [==============================] - 14s 8ms/step - loss: 0.0165 - val_loss: 0.0198\n"
          ]
        }
      ]
    },
    {
      "cell_type": "code",
      "source": [
        "# PLOTTING THE ACCURACY AND VALIDATION ACCURACY VS EPOCHS\n",
        "from matplotlib import pyplot as plt\n",
        "\n",
        "plt.plot(history.history['loss'])\n",
        "plt.plot(history.history['val_loss'])\n",
        "plt.title('Mean Squared Error')\n",
        "plt.ylabel('MSE')\n",
        "plt.xlabel('epochs')\n",
        "plt.legend(['train', 'val'], loc='upper left')\n",
        "plt.show()"
      ],
      "metadata": {
        "colab": {
          "base_uri": "https://localhost:8080/",
          "height": 295
        },
        "id": "ipd6Z8AyC9xd",
        "outputId": "5f64fa2e-aa9d-4f18-cfe2-866c778e8ca1"
      },
      "execution_count": 30,
      "outputs": [
        {
          "output_type": "display_data",
          "data": {
            "text/plain": [
              "<Figure size 432x288 with 1 Axes>"
            ],
            "image/png": "[encoded data removed]"
          },
          "metadata": {
            "needs_background": "light"
          }
        }
      ]
    },
    {
      "cell_type": "code",
      "source": [
        "model.save(\"/content/ColorizerModelFinalTranferLearningTanh2.h5\")"
      ],
      "metadata": {
        "id": "ZCKrWhN-DLrQ"
      },
      "execution_count": 33,
      "outputs": []
    },
    {
      "cell_type": "code",
      "source": [
        "def predict(imgpath, flag):\n",
        "  img = cv2.imread(imgpath)\n",
        "  img = cv2.resize(img, (128, 128), interpolation = cv2.INTER_AREA)\n",
        "  print(img.shape)\n",
        "  imageLAB = cv2.cvtColor(img, cv2.COLOR_BGR2LAB)\n",
        "  L, a, b = cv2.split(imageLAB)\n",
        "  L = L.reshape(1 , 1, 128, 128)\n",
        "  L = L/255\n",
        "  pred = model.predict(L)\n",
        "  a = pred[0][0]\n",
        "  b = pred[0][1]\n",
        "  L = L.reshape(128,128)\n",
        "  L = np.array(L * 255, dtype = np.uint8)\n",
        "  a = np.array(a * 82, dtype = np.float32)\n",
        "  b = np.array(b * 82, dtype = np.float32)\n",
        "\n",
        "  a = a + 138\n",
        "  b = b + 138\n",
        "\n",
        "  a = np.array(a, dtype = np.uint8)\n",
        "  b = np.array(b, dtype = np.uint8)\n",
        "  imgLAB = cv2.merge([L, a, b])\n",
        "  image = cv2.cvtColor(imgLAB, cv2.COLOR_LAB2RGB)\n",
        "  fig, ((ax1,ax2), (ax3, ax4)) = plt.subplots(nrows=2,ncols=2,figsize=(5,8))\n",
        "\n",
        "  ax1.imshow(cv2.cvtColor(img, cv2.COLOR_BGR2RGB))\n",
        "  ax1.set_title(\"Original Image\")\n",
        "  ax2.imshow(image)\n",
        "  ax2.set_title(\"Colorized\")\n",
        "  ax3.imshow(a)\n",
        "  ax3.set_title(\"a\")\n",
        "  ax4.imshow(b)\n",
        "  ax4.set_title(\"b\")\n",
        "  # cv2.imwrite(\"/content/img.jpg\", cv2.cvtColor(image, cv2.COLOR_RGB2BGR))\n",
        "  # if(not flag):\n",
        "  #   image = predict(\"/content/img.jpg\", True)\n",
        "  return image"
      ],
      "metadata": {
        "id": "1-fudz4WDQ-4"
      },
      "execution_count": 31,
      "outputs": []
    },
    {
      "cell_type": "code",
      "source": [
        "image = predict(\"/content/data/ColorfulOriginal/Carrot/carrot11.jpg\", False)"
      ],
      "metadata": {
        "colab": {
          "base_uri": "https://localhost:8080/",
          "height": 464
        },
        "id": "JLzfBud1DSVc",
        "outputId": "951cf8e8-a8bc-4c4a-c76b-794ca0f944dc"
      },
      "execution_count": 32,
      "outputs": [
        {
          "output_type": "stream",
          "name": "stdout",
          "text": [
            "(128, 128, 3)\n",
            "1/1 [==============================] - 0s 376ms/step\n"
          ]
        },
        {
          "output_type": "display_data",
          "data": {
            "text/plain": [
              "<Figure size 360x576 with 4 Axes>"
            ],
            "image/png": "[encoded data removed]"
          },
          "metadata": {
            "needs_background": "light"
          }
        }
      ]
    },
    {
      "cell_type": "code",
      "source": [],
      "metadata": {
        "id": "nv-k8MbAQXTA"
      },
      "execution_count": null,
      "outputs": []
    }
  ]
}