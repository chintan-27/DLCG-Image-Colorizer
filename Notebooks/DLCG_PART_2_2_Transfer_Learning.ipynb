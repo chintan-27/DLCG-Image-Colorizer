{
  "nbformat": 4,
  "nbformat_minor": 0,
  "metadata": {
    "colab": {
      "provenance": []
    },
    "kernelspec": {
      "name": "python3",
      "display_name": "Python 3"
    },
    "language_info": {
      "name": "python"
    },
    "accelerator": "GPU",
    "gpuClass": "standard"
  },
  "cells": [
    {
      "cell_type": "code",
      "source": [
        "!unzip \"/content/ColorfulOriginal.zip\" -d \"/content/data\""
      ],
      "metadata": {
        "id": "Jc8alEUNucZu"
      },
      "execution_count": null,
      "outputs": []
    },
    {
      "cell_type": "code",
      "source": [
        "!unzip \"/content/NCDataset.zip\" -d \"/content/data\""
      ],
      "metadata": {
        "id": "yTfLcrwB58T6"
      },
      "execution_count": null,
      "outputs": []
    },
    {
      "cell_type": "code",
      "source": [
        "import os\n",
        "import cv2\n",
        "\n",
        "image_data = []\n",
        "\n",
        "for i in os.listdir(\"/content/data/ColorfulOriginal\"):\n",
        "  for j in os.listdir(\"/content/data/ColorfulOriginal/\" + i):\n",
        "    img = cv2.imread(\"/content/data/ColorfulOriginal/\" + i + \"/\" + j)\n",
        "    img = cv2.resize(img, (128, 128), interpolation = cv2.INTER_AREA)\n",
        "    image_data.append(img)"
      ],
      "metadata": {
        "id": "S3lmNI_c2zmf"
      },
      "execution_count": 6,
      "outputs": []
    },
    {
      "cell_type": "code",
      "source": [
        "import numpy as np\n",
        "\n",
        "image_data = np.array(image_data)\n",
        "image_data.shape"
      ],
      "metadata": {
        "colab": {
          "base_uri": "https://localhost:8080/"
        },
        "id": "BPSjsikNBLj8",
        "outputId": "4edbc015-640f-4b38-ee41-d31a7476127e"
      },
      "execution_count": 7,
      "outputs": [
        {
          "output_type": "execute_result",
          "data": {
            "text/plain": [
              "(721, 128, 128, 3)"
            ]
          },
          "metadata": {},
          "execution_count": 7
        }
      ]
    },
    {
      "cell_type": "code",
      "source": [
        "import random\n",
        "train_indices = []\n",
        "for i in range(648):\n",
        "  x = random.randint(0, 721)\n",
        "  while(x in train_indices):\n",
        "    x = random.randint(0, 721)\n",
        "  train_indices.append(x)\n",
        "print(len(train_indices))\n",
        "train_indices = list(set(train_indices))\n",
        "print(len(train_indices))"
      ],
      "metadata": {
        "colab": {
          "base_uri": "https://localhost:8080/"
        },
        "id": "JowNjFeWBeBF",
        "outputId": "dc89236e-44a7-4010-cd41-d9f9e336fc40"
      },
      "execution_count": 8,
      "outputs": [
        {
          "output_type": "stream",
          "name": "stdout",
          "text": [
            "648\n",
            "648\n"
          ]
        }
      ]
    },
    {
      "cell_type": "code",
      "source": [
        "train_data = []\n",
        "test_data = []\n",
        "\n",
        "for i in range(721):\n",
        "  if(i in train_indices):\n",
        "    train_data.append(image_data[i])\n",
        "  else:\n",
        "    test_data.append(image_data[i])\n",
        "\n",
        "train_data = np.array(train_data)\n",
        "test_data = np.array(test_data)\n",
        "\n",
        "train_data.shape, test_data.shape"
      ],
      "metadata": {
        "colab": {
          "base_uri": "https://localhost:8080/"
        },
        "id": "ORbz28wjB7OK",
        "outputId": "2ae14a0e-42da-4430-9e20-f70f3235d6b0"
      },
      "execution_count": 24,
      "outputs": [
        {
          "output_type": "execute_result",
          "data": {
            "text/plain": [
              "((647, 128, 128, 3), (74, 128, 128, 3))"
            ]
          },
          "metadata": {},
          "execution_count": 24
        }
      ]
    },
    {
      "cell_type": "code",
      "source": [
        "import random\n",
        "\n",
        "def fill(img, h, w):\n",
        "    img = cv2.resize(img, (h, w), cv2.INTER_CUBIC)\n",
        "    return img\n",
        "\n",
        "# HORIZONTAL SHIFT - RANDOM RATIO 0 - 1\n",
        "def horizontal_shift(img, ratio=0.0):\n",
        "    ratio = random.uniform(-ratio, ratio)\n",
        "    h, w = img.shape[:2]\n",
        "    to_shift = w*ratio\n",
        "    if ratio > 0:\n",
        "        img = img[:, :int(w-to_shift), :]\n",
        "    if ratio < 0:\n",
        "        img = img[:, int(-1*to_shift):, :]\n",
        "    img = fill(img, h, w)\n",
        "    return img\n",
        "\n",
        "# VERTICAL SHIFT - RANDOM RATIO 0 - 1\n",
        "def vertical_shift(img, ratio=0.0):\n",
        "    ratio = random.uniform(-ratio, ratio)\n",
        "    h, w = img.shape[:2]\n",
        "    to_shift = h*ratio\n",
        "    if ratio > 0:\n",
        "        img = img[:int(h-to_shift), :, :]\n",
        "    if ratio < 0:\n",
        "        img = img[int(-1*to_shift):, :, :]\n",
        "    img = fill(img, h, w)\n",
        "    return img\n",
        "\n",
        "# BRIGHTNESS - RANDOM LOW, HIGH \n",
        "def brightness(img, low, high):\n",
        "    value = random.uniform(low, high)\n",
        "    hsv = cv2.cvtColor(img, cv2.COLOR_BGR2HSV)\n",
        "    hsv = np.array(hsv, dtype = np.float64)\n",
        "    hsv[:,:,1] = hsv[:,:,1]*value\n",
        "    hsv[:,:,1][hsv[:,:,1]>255]  = 255\n",
        "    hsv[:,:,2] = hsv[:,:,2]*value \n",
        "    hsv[:,:,2][hsv[:,:,2]>255]  = 255\n",
        "    hsv = np.array(hsv, dtype = np.uint8)\n",
        "    img = cv2.cvtColor(hsv, cv2.COLOR_HSV2BGR)\n",
        "    return img\n",
        "\n",
        "# ZOOM - RANDOM VALUE 0 - 1\n",
        "def zoom(img, value):\n",
        "    value = random.uniform(value, 1)\n",
        "    h, w = img.shape[:2]\n",
        "    h_taken = int(value*h)\n",
        "    w_taken = int(value*w)\n",
        "    h_start = random.randint(0, h-h_taken)\n",
        "    w_start = random.randint(0, w-w_taken)\n",
        "    img = img[h_start:h_start+h_taken, w_start:w_start+w_taken, :]\n",
        "    img = fill(img, h, w)\n",
        "    return img\n",
        "\n",
        "# HORIZONTAL FLIP - RANDOM BOOLEAN\n",
        "def horizontal_flip(img, flag):\n",
        "    if flag:\n",
        "        return cv2.flip(img, 1)\n",
        "    else:\n",
        "        return img\n",
        "\n",
        "# VERTICAL FLIP - RANDOM BOOLEAN\n",
        "def vertical_flip(img, flag):\n",
        "    if flag:\n",
        "        return cv2.flip(img, 0)\n",
        "    else:\n",
        "        return img\n",
        "\n",
        "# ROTATION - RANDOM ANGLE\n",
        "def rotation(img, angle):\n",
        "    angle = int(random.uniform(-angle, angle))\n",
        "    h, w = img.shape[:2]\n",
        "    M = cv2.getRotationMatrix2D((int(w/2), int(h/2)), angle, 1)\n",
        "    img = cv2.warpAffine(img, M, (w, h))\n",
        "    return img\n",
        "  \n",
        "# SCALE - RANDOM VALUE 0.6 - 1\n",
        "def scale(img, value):\n",
        "  return np.array((value * img), dtype=np.uint8)"
      ],
      "metadata": {
        "id": "LWIjUnIjHWjy"
      },
      "execution_count": 25,
      "outputs": []
    },
    {
      "cell_type": "code",
      "source": [
        "augmented_train_data = []\n",
        "for i in train_data:\n",
        "  augmented_train_data.append(i)\n",
        "  for j in range(3):\n",
        "    augmented_train_data.append(horizontal_shift(i, random.uniform(0, 1)))\n",
        "    augmented_train_data.append(vertical_shift(i, random.uniform(0, 1)))\n",
        "    augmented_train_data.append(zoom(i, random.uniform(0, 1)))\n",
        "    augmented_train_data.append(scale(i, random.uniform(0.6, 1)))"
      ],
      "metadata": {
        "id": "_0X55vcrHOtw"
      },
      "execution_count": 26,
      "outputs": []
    },
    {
      "cell_type": "code",
      "source": [
        "X_train = []\n",
        "y_train = []\n",
        "for img in augmented_train_data:\n",
        "  imageLAB = cv2.cvtColor(img, cv2.COLOR_BGR2LAB)\n",
        "  L, a, b = cv2.split(imageLAB)\n",
        "  X_train.append([L])\n",
        "  y_train.append([a,b])"
      ],
      "metadata": {
        "id": "kCRxIfTBB9Qa"
      },
      "execution_count": 27,
      "outputs": []
    },
    {
      "cell_type": "code",
      "source": [
        "X_test = []\n",
        "y_test = []\n",
        "for img in test_data:\n",
        "  imageLAB = cv2.cvtColor(img, cv2.COLOR_BGR2LAB)\n",
        "  L, a, b = cv2.split(imageLAB)\n",
        "  X_test.append([L])\n",
        "  y_test.append([a,b])"
      ],
      "metadata": {
        "id": "r585VGLBCQpV"
      },
      "execution_count": 28,
      "outputs": []
    },
    {
      "cell_type": "code",
      "source": [
        "X_train = np.array(X_train, dtype = np.float32)\n",
        "X_test = np.array(X_test, dtype = np.float32)\n",
        "y_train = np.array(y_train, dtype = np.float32)\n",
        "y_test = np.array(y_test, dtype = np.float32)\n",
        "\n",
        "X_train.shape, X_test.shape, y_train.shape, y_test.shape"
      ],
      "metadata": {
        "colab": {
          "base_uri": "https://localhost:8080/"
        },
        "id": "Semsz3L2CRRJ",
        "outputId": "81340078-7a97-47ba-a325-3cb7d1b9bb5f"
      },
      "execution_count": 29,
      "outputs": [
        {
          "output_type": "execute_result",
          "data": {
            "text/plain": [
              "((8411, 1, 128, 128),\n",
              " (74, 1, 128, 128),\n",
              " (8411, 2, 128, 128),\n",
              " (74, 2, 128, 128))"
            ]
          },
          "metadata": {},
          "execution_count": 29
        }
      ]
    },
    {
      "cell_type": "code",
      "source": [
        "X_train = X_train / 255\n",
        "X_test = X_test / 255\n",
        "y_train = y_train / 255\n",
        "y_test = y_test / 255"
      ],
      "metadata": {
        "id": "_RUVzYAaCSr2"
      },
      "execution_count": 30,
      "outputs": []
    },
    {
      "cell_type": "code",
      "source": [
        "from tensorflow.keras.models import load_model\n",
        "\n",
        "model = load_model(\"/content/ColorizerModelFinal.h5\")\n",
        "model.summary()"
      ],
      "metadata": {
        "colab": {
          "base_uri": "https://localhost:8080/"
        },
        "id": "VArxJj0RCXdg",
        "outputId": "1082b4e0-48f8-4970-d29e-961383ea055b"
      },
      "execution_count": 31,
      "outputs": [
        {
          "output_type": "stream",
          "name": "stdout",
          "text": [
            "Model: \"sequential\"\n",
            "_________________________________________________________________\n",
            " Layer (type)                Output Shape              Param #   \n",
            "=================================================================\n",
            " conv2d (Conv2D)             (None, 1, 128, 128)       65664     \n",
            "                                                                 \n",
            " batch_normalization (BatchN  (None, 1, 128, 128)      512       \n",
            " ormalization)                                                   \n",
            "                                                                 \n",
            " conv2d_transpose (Conv2DTra  (None, 1, 256, 256)      33024     \n",
            " nspose)                                                         \n",
            "                                                                 \n",
            " batch_normalization_1 (Batc  (None, 1, 256, 256)      1024      \n",
            " hNormalization)                                                 \n",
            "                                                                 \n",
            " conv2d_1 (Conv2D)           (None, 1, 128, 128)       131200    \n",
            "                                                                 \n",
            " batch_normalization_2 (Batc  (None, 1, 128, 128)      512       \n",
            " hNormalization)                                                 \n",
            "                                                                 \n",
            " conv2d_2 (Conv2D)           (None, 1, 64, 64)         32832     \n",
            "                                                                 \n",
            " batch_normalization_3 (Batc  (None, 1, 64, 64)        256       \n",
            " hNormalization)                                                 \n",
            "                                                                 \n",
            " conv2d_3 (Conv2D)           (None, 1, 32, 32)         8224      \n",
            "                                                                 \n",
            " batch_normalization_4 (Batc  (None, 1, 32, 32)        128       \n",
            " hNormalization)                                                 \n",
            "                                                                 \n",
            " conv2d_4 (Conv2D)           (None, 1, 16, 16)         2064      \n",
            "                                                                 \n",
            " batch_normalization_5 (Batc  (None, 1, 16, 16)        64        \n",
            " hNormalization)                                                 \n",
            "                                                                 \n",
            " conv2d_5 (Conv2D)           (None, 1, 8, 8)           520       \n",
            "                                                                 \n",
            " batch_normalization_6 (Batc  (None, 1, 8, 8)          32        \n",
            " hNormalization)                                                 \n",
            "                                                                 \n",
            " conv2d_transpose_1 (Conv2DT  (None, 2, 8, 8)          264       \n",
            " ranspose)                                                       \n",
            "                                                                 \n",
            " batch_normalization_7 (Batc  (None, 2, 8, 8)          32        \n",
            " hNormalization)                                                 \n",
            "                                                                 \n",
            " conv2d_transpose_2 (Conv2DT  (None, 2, 16, 16)        528       \n",
            " ranspose)                                                       \n",
            "                                                                 \n",
            " batch_normalization_8 (Batc  (None, 2, 16, 16)        64        \n",
            " hNormalization)                                                 \n",
            "                                                                 \n",
            " conv2d_transpose_3 (Conv2DT  (None, 2, 32, 32)        2080      \n",
            " ranspose)                                                       \n",
            "                                                                 \n",
            " batch_normalization_9 (Batc  (None, 2, 32, 32)        128       \n",
            " hNormalization)                                                 \n",
            "                                                                 \n",
            " conv2d_transpose_4 (Conv2DT  (None, 2, 64, 64)        8256      \n",
            " ranspose)                                                       \n",
            "                                                                 \n",
            " batch_normalization_10 (Bat  (None, 2, 64, 64)        256       \n",
            " chNormalization)                                                \n",
            "                                                                 \n",
            " conv2d_transpose_5 (Conv2DT  (None, 2, 128, 128)      32896     \n",
            " ranspose)                                                       \n",
            "                                                                 \n",
            " batch_normalization_11 (Bat  (None, 2, 128, 128)      512       \n",
            " chNormalization)                                                \n",
            "                                                                 \n",
            " conv2d_transpose_6 (Conv2DT  (None, 2, 256, 256)      131328    \n",
            " ranspose)                                                       \n",
            "                                                                 \n",
            " batch_normalization_12 (Bat  (None, 2, 256, 256)      1024      \n",
            " chNormalization)                                                \n",
            "                                                                 \n",
            " conv2d_6 (Conv2D)           (None, 2, 128, 128)       131200    \n",
            "                                                                 \n",
            " batch_normalization_13 (Bat  (None, 2, 128, 128)      512       \n",
            " chNormalization)                                                \n",
            "                                                                 \n",
            "=================================================================\n",
            "Total params: 585,136\n",
            "Trainable params: 582,608\n",
            "Non-trainable params: 2,528\n",
            "_________________________________________________________________\n"
          ]
        }
      ]
    },
    {
      "cell_type": "code",
      "source": [
        "import tensorflow as tf\n",
        "\n",
        "loss = tf.keras.losses.MeanSquaredError(name='mean_squared_error')\n",
        "optimizer = tf.keras.optimizers.Adam(learning_rate=0.001)\n",
        "model.compile(optimizer=optimizer, loss=loss)"
      ],
      "metadata": {
        "id": "CA6gzCwUCxnR"
      },
      "execution_count": 32,
      "outputs": []
    },
    {
      "cell_type": "code",
      "source": [
        "history = model.fit(X_train, y_train, \n",
        "                    validation_data=(X_test, y_test), \n",
        "                    epochs=30, \n",
        "                    batch_size=5,\n",
        "                    steps_per_epoch=X_train.shape[0]//5,\n",
        "                    validation_steps=X_test.shape[0]//5,\n",
        "                    shuffle=True)"
      ],
      "metadata": {
        "colab": {
          "base_uri": "https://localhost:8080/"
        },
        "id": "7dbeGeIcC1rb",
        "outputId": "f2e652f8-0e87-4015-f6fd-ca83edcac190"
      },
      "execution_count": 33,
      "outputs": [
        {
          "output_type": "stream",
          "name": "stdout",
          "text": [
            "Epoch 1/30\n",
            "1682/1682 [==============================] - 18s 9ms/step - loss: 0.0259 - val_loss: 0.0051\n",
            "Epoch 2/30\n",
            "1682/1682 [==============================] - 15s 9ms/step - loss: 0.0057 - val_loss: 0.0045\n",
            "Epoch 3/30\n",
            "1682/1682 [==============================] - 15s 9ms/step - loss: 0.0055 - val_loss: 0.0048\n",
            "Epoch 4/30\n",
            "1682/1682 [==============================] - 15s 9ms/step - loss: 0.0054 - val_loss: 0.0052\n",
            "Epoch 5/30\n",
            "1682/1682 [==============================] - 15s 9ms/step - loss: 0.0052 - val_loss: 0.0042\n",
            "Epoch 6/30\n",
            "1682/1682 [==============================] - 15s 9ms/step - loss: 0.0051 - val_loss: 0.0048\n",
            "Epoch 7/30\n",
            "1682/1682 [==============================] - 15s 9ms/step - loss: 0.0050 - val_loss: 0.0040\n",
            "Epoch 8/30\n",
            "1682/1682 [==============================] - 15s 9ms/step - loss: 0.0049 - val_loss: 0.0046\n",
            "Epoch 9/30\n",
            "1682/1682 [==============================] - 15s 9ms/step - loss: 0.0048 - val_loss: 0.0048\n",
            "Epoch 10/30\n",
            "1682/1682 [==============================] - 15s 9ms/step - loss: 0.0047 - val_loss: 0.0046\n",
            "Epoch 11/30\n",
            "1682/1682 [==============================] - 15s 9ms/step - loss: 0.0046 - val_loss: 0.0041\n",
            "Epoch 12/30\n",
            "1682/1682 [==============================] - 15s 9ms/step - loss: 0.0046 - val_loss: 0.0045\n",
            "Epoch 13/30\n",
            "1682/1682 [==============================] - 16s 9ms/step - loss: 0.0045 - val_loss: 0.0041\n",
            "Epoch 14/30\n",
            "1682/1682 [==============================] - 15s 9ms/step - loss: 0.0045 - val_loss: 0.0041\n",
            "Epoch 15/30\n",
            "1682/1682 [==============================] - 15s 9ms/step - loss: 0.0045 - val_loss: 0.0044\n",
            "Epoch 16/30\n",
            "1682/1682 [==============================] - 15s 9ms/step - loss: 0.0044 - val_loss: 0.0047\n",
            "Epoch 17/30\n",
            "1682/1682 [==============================] - 15s 9ms/step - loss: 0.0044 - val_loss: 0.0042\n",
            "Epoch 18/30\n",
            "1682/1682 [==============================] - 15s 9ms/step - loss: 0.0043 - val_loss: 0.0051\n",
            "Epoch 19/30\n",
            "1682/1682 [==============================] - 15s 9ms/step - loss: 0.0043 - val_loss: 0.0042\n",
            "Epoch 20/30\n",
            "1682/1682 [==============================] - 15s 9ms/step - loss: 0.0043 - val_loss: 0.0040\n",
            "Epoch 21/30\n",
            "1682/1682 [==============================] - 15s 9ms/step - loss: 0.0043 - val_loss: 0.0044\n",
            "Epoch 22/30\n",
            "1682/1682 [==============================] - 15s 9ms/step - loss: 0.0043 - val_loss: 0.0041\n",
            "Epoch 23/30\n",
            "1682/1682 [==============================] - 16s 9ms/step - loss: 0.0042 - val_loss: 0.0040\n",
            "Epoch 24/30\n",
            "1682/1682 [==============================] - 15s 9ms/step - loss: 0.0042 - val_loss: 0.0054\n",
            "Epoch 25/30\n",
            "1682/1682 [==============================] - 15s 9ms/step - loss: 0.0042 - val_loss: 0.0040\n",
            "Epoch 26/30\n",
            "1682/1682 [==============================] - 15s 9ms/step - loss: 0.0041 - val_loss: 0.0037\n",
            "Epoch 27/30\n",
            "1682/1682 [==============================] - 15s 9ms/step - loss: 0.0041 - val_loss: 0.0041\n",
            "Epoch 28/30\n",
            "1682/1682 [==============================] - 15s 9ms/step - loss: 0.0041 - val_loss: 0.0044\n",
            "Epoch 29/30\n",
            "1682/1682 [==============================] - 15s 9ms/step - loss: 0.0041 - val_loss: 0.0039\n",
            "Epoch 30/30\n",
            "1682/1682 [==============================] - 15s 9ms/step - loss: 0.0041 - val_loss: 0.0038\n"
          ]
        }
      ]
    },
    {
      "cell_type": "code",
      "source": [
        "# PLOTTING THE ACCURACY AND VALIDATION ACCURACY VS EPOCHS\n",
        "from matplotlib import pyplot as plt\n",
        "\n",
        "plt.plot(history.history['loss'])\n",
        "plt.plot(history.history['val_loss'])\n",
        "plt.title('Mean Squared Error')\n",
        "plt.ylabel('MSE')\n",
        "plt.xlabel('epochs')\n",
        "plt.legend(['train', 'val'], loc='upper left')\n",
        "plt.show()"
      ],
      "metadata": {
        "colab": {
          "base_uri": "https://localhost:8080/",
          "height": 295
        },
        "id": "ipd6Z8AyC9xd",
        "outputId": "a40837e5-47cf-475c-80d1-31ba7c9e3129"
      },
      "execution_count": 34,
      "outputs": [
        {
          "output_type": "display_data",
          "data": {
            "text/plain": [
              "<Figure size 432x288 with 1 Axes>"
            ],
            "image/png": "[encoded data removed]"
          },
          "metadata": {
            "needs_background": "light"
          }
        }
      ]
    },
    {
      "cell_type": "code",
      "source": [
        "model.save(\"/content/ColorizerModelFinalTranferLearning.h5\")"
      ],
      "metadata": {
        "id": "ZCKrWhN-DLrQ"
      },
      "execution_count": 35,
      "outputs": []
    },
    {
      "cell_type": "code",
      "source": [
        "def predict(imgpath, flag):\n",
        "  img = cv2.imread(imgpath)\n",
        "  img = cv2.resize(img, (128, 128), interpolation = cv2.INTER_AREA)\n",
        "  print(img.shape)\n",
        "  imageLAB = cv2.cvtColor(img, cv2.COLOR_BGR2LAB)\n",
        "  L, a, b = cv2.split(imageLAB)\n",
        "  L = L.reshape(1 , 1, 128, 128)\n",
        "  L = L/255\n",
        "  pred = model.predict(L)\n",
        "  a = pred[0][0]\n",
        "  b = pred[0][1]\n",
        "  L = L.reshape(128,128)\n",
        "  L = np.array(L * 255, dtype = np.uint8)\n",
        "  a = np.array(a * 255, dtype = np.uint8)\n",
        "  b = np.array(b * 255, dtype = np.uint8)\n",
        "\n",
        "  imgLAB = cv2.merge([L, a, b])\n",
        "  image = cv2.cvtColor(imgLAB, cv2.COLOR_LAB2RGB)\n",
        "  fig, ((ax1,ax2), (ax3, ax4)) = plt.subplots(nrows=2,ncols=2,figsize=(5,8))\n",
        "\n",
        "  ax1.imshow(cv2.cvtColor(img, cv2.COLOR_BGR2RGB))\n",
        "  ax1.set_title(\"Original Image\")\n",
        "  ax2.imshow(image)\n",
        "  ax2.set_title(\"Colorized\")\n",
        "  ax3.imshow(a)\n",
        "  ax3.set_title(\"a\")\n",
        "  ax4.imshow(b)\n",
        "  ax4.set_title(\"b\")\n",
        "  # cv2.imwrite(\"/content/img.jpg\", cv2.cvtColor(image, cv2.COLOR_RGB2BGR))\n",
        "  # if(not flag):\n",
        "  #   image = predict(\"/content/img.jpg\", True)\n",
        "  return image"
      ],
      "metadata": {
        "id": "1-fudz4WDQ-4"
      },
      "execution_count": 36,
      "outputs": []
    },
    {
      "cell_type": "code",
      "source": [
        "image = predict(\"/content/data/ColorfulOriginal/Carrot/carrot11.jpg\", False)"
      ],
      "metadata": {
        "colab": {
          "base_uri": "https://localhost:8080/",
          "height": 464
        },
        "id": "JLzfBud1DSVc",
        "outputId": "069dc8c6-c4b7-47e1-c708-c11a29f2660b"
      },
      "execution_count": 37,
      "outputs": [
        {
          "output_type": "stream",
          "name": "stdout",
          "text": [
            "(128, 128, 3)\n",
            "1/1 [==============================] - 0s 311ms/step\n"
          ]
        },
        {
          "output_type": "display_data",
          "data": {
            "text/plain": [
              "<Figure size 360x576 with 4 Axes>"
            ],
            "image/png": "[encoded data removed]"
          },
          "metadata": {
            "needs_background": "light"
          }
        }
      ]
    },
    {
      "cell_type": "code",
      "source": [],
      "metadata": {
        "id": "nv-k8MbAQXTA"
      },
      "execution_count": null,
      "outputs": []
    }
  ]
}